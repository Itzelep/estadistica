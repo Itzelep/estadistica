{
 "cells": [
  {
   "cell_type": "markdown",
   "metadata": {},
   "source": [
    "# STATISTICS FUNCTIONS\n",
    "\n",
    "> Here you will find all the functions to calculate the mean, mode, standard deviation and interquartile range."
   ]
  },
  {
   "cell_type": "code",
   "execution_count": null,
   "metadata": {},
   "outputs": [],
   "source": [
    "#| default_exp core"
   ]
  },
  {
   "cell_type": "code",
   "execution_count": null,
   "metadata": {},
   "outputs": [],
   "source": [
    "#| export\n",
    "#| hide\n",
    "\n",
    "import numpy as np\n",
    "import pandas as pd\n",
    "import matplotlib.pyplot as plt\n",
    "import seaborn as sns\n",
    "from scipy import stats"
   ]
  },
  {
   "cell_type": "code",
   "execution_count": null,
   "metadata": {},
   "outputs": [],
   "source": [
    "#| export\n",
    "\n",
    "def calcular_media(datos):\n",
    "    return np.mean(datos)\n",
    "\n",
    "\n",
    "def calcular_mediana(datos):\n",
    "    return np.median(datos)\n",
    "\n",
    "\n",
    "def calcular_desviacion_estandar(datos):\n",
    "    return np.std(datos)\n",
    "\n",
    "\n",
    "def calcular_rango_intercuartil(datos):\n",
    "    return stats.iqr(datos)\n",
    "\n",
    "\n",
    "def graficar_histograma(datos, titulo=\"Histograma\", xlabel=\"Valor\", ylabel=\"Frecuencia\"):\n",
    "    plt.figure(figsize=(10, 6))\n",
    "    plt.hist(datos, bins=20, edgecolor='black')\n",
    "    plt.title(titulo)\n",
    "    plt.xlabel(xlabel)\n",
    "    plt.ylabel(ylabel)\n",
    "    plt.show()\n",
    "\n",
    "\n",
    "def graficar_caja_bigotes(datos, titulo=\"Caja y Bigotes\", xlabel=\"\"):\n",
    "    plt.figure(figsize=(10, 6))\n",
    "    sns.boxplot(datos)\n",
    "    plt.title(titulo)\n",
    "    plt.xlabel(xlabel)\n",
    "    plt.show()\n",
    "\n",
    "def graficar_dispersion(x, y, titulo=\"Diagrama de Dispersión\", xlabel=\"X\", ylabel=\"Y\"):\n",
    "    plt.figure(figsize=(10, 6))\n",
    "    plt.scatter(x, y, edgecolor='black')\n",
    "    plt.title(titulo)\n",
    "    plt.xlabel(xlabel)\n",
    "    plt.ylabel(ylabel)\n",
    "    plt.show()"
   ]
  },
  {
   "cell_type": "code",
   "execution_count": null,
   "metadata": {},
   "outputs": [
    {
     "name": "stderr",
     "output_type": "stream",
     "text": [
      "C:\\Users\\UFD\\anaconda3\\envs\\nbdev\\Lib\\site-packages\\nbdev\\export.py:54: UserWarning: Notebook 'C:\\Users\\UFD\\estadistica\\nbs\\examples.ipynb' uses `#|export` without `#|default_exp` cell.\n",
      "Note nbdev2 no longer supports nbdev1 syntax. Run `nbdev_migrate` to upgrade.\n",
      "See https://nbdev.fast.ai/getting_started.html for more information.\n",
      "  warn(f\"Notebook '{nbname}' uses `#|export` without `#|default_exp` cell.\\n\"\n"
     ]
    }
   ],
   "source": [
    "#| hide\n",
    "import nbdev; nbdev.nbdev_export()"
   ]
  },
  {
   "cell_type": "code",
   "execution_count": null,
   "metadata": {},
   "outputs": [],
   "source": []
  }
 ],
 "metadata": {
  "kernelspec": {
   "display_name": "python3",
   "language": "python",
   "name": "python3"
  }
 },
 "nbformat": 4,
 "nbformat_minor": 4
}
